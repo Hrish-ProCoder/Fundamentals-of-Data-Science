{
 "cells": [
  {
   "cell_type": "code",
   "execution_count": 4,
   "metadata": {},
   "outputs": [
    {
     "name": "stdout",
     "output_type": "stream",
     "text": [
      "Temperature vector x: [24.90063639 21.61770814 33.8996902 ]\n",
      "Bias constant α: 2.1937036086718855\n",
      "Drift constant β: 0.18979612476283153\n"
     ]
    }
   ],
   "source": [
    "import numpy as np\n",
    "\n",
    "data = np.load(\"sensor_data.npy\", allow_pickle=True).item()\n",
    "A = data['A']\n",
    "y = data['y']\n",
    "\n",
    "# Define the number of measurements and interval T\n",
    "m, n = A.shape\n",
    "T = 1  # Intervals -> T\n",
    "\n",
    "# Construct the augmented matrix B\n",
    "ones_column = np.ones((m, 1))\n",
    "time_column = np.arange(m).reshape(-1, 1) * T\n",
    "B = np.hstack((A, ones_column, time_column))\n",
    "\n",
    "# Solve for z using least-squares\n",
    "# z = [x, alpha, beta]\n",
    "z, residuals, rank, s = np.linalg.lstsq(B, y, rcond=None)\n",
    "\n",
    "# Extract x, alpha, beta from z\n",
    "x = z[:n]\n",
    "alpha = z[-2]\n",
    "beta = z[-1]\n",
    "\n",
    "# Display results\n",
    "print(\"Temperature vector x:\", x)\n",
    "print(\"Bias constant α:\", alpha)\n",
    "print(\"Drift constant β:\", beta)\n"
   ]
  },
  {
   "cell_type": "code",
   "execution_count": null,
   "metadata": {},
   "outputs": [],
   "source": []
  }
 ],
 "metadata": {
  "kernelspec": {
   "display_name": "base",
   "language": "python",
   "name": "python3"
  },
  "language_info": {
   "codemirror_mode": {
    "name": "ipython",
    "version": 3
   },
   "file_extension": ".py",
   "mimetype": "text/x-python",
   "name": "python",
   "nbconvert_exporter": "python",
   "pygments_lexer": "ipython3",
   "version": "3.12.4"
  }
 },
 "nbformat": 4,
 "nbformat_minor": 2
}

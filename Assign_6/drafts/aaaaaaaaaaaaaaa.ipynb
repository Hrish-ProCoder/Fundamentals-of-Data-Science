{
 "cells": [
  {
   "cell_type": "code",
   "execution_count": 8,
   "metadata": {},
   "outputs": [
    {
     "name": "stdout",
     "output_type": "stream",
     "text": [
      "[0.42259299 0.09874256 0.52855255]\n"
     ]
    }
   ],
   "source": [
    "import json\n",
    "import numpy as np\n",
    "\n",
    "with open(\"color_perception_data.json\", \"r\") as file:\n",
    "    color_data = json.load(file)\n",
    "\n",
    "# Function to extract 'data' from the JSON structure\n",
    "def extract_data(field):\n",
    "    # Ensure we are returning an array, not a generator or other type\n",
    "    return np.array((color_data[field][\"data\"]))\n",
    "\n",
    "# Extracting the necessary data\n",
    "wavelength = extract_data(\"wavelength\")\n",
    "B_phosphor = extract_data(\"B_phosphor\")\n",
    "G_phosphor = extract_data(\"G_phosphor\")\n",
    "R_phosphor = extract_data(\"R_phosphor\")\n",
    "test_light = extract_data(\"test_light\")\n",
    "\n",
    "# Extracting coefficients (for potential future use)\n",
    "L_coefficients = extract_data(\"L_coefficients\")\n",
    "M_coefficients = extract_data(\"M_coefficients\")\n",
    "S_coefficients = extract_data(\"S_coefficients\")\n",
    "\n",
    "L_R = np.dot(L_coefficients,R_phosphor)\n",
    "L_G = np.dot(L_coefficients,G_phosphor)\n",
    "L_B = np.dot(L_coefficients,B_phosphor)\n",
    "\n",
    "M_R = np.dot(M_coefficients,R_phosphor)\n",
    "M_G = np.dot(M_coefficients,G_phosphor)\n",
    "M_B = np.dot(M_coefficients,B_phosphor)\n",
    "\n",
    "S_R = np.dot(S_coefficients,R_phosphor)\n",
    "S_G = np.dot(S_coefficients,G_phosphor)\n",
    "S_B = np.dot(S_coefficients,B_phosphor)\n",
    "\n",
    "phosphor_matrix = np.array([\n",
    "        [L_R,L_G,L_B],\n",
    "        [M_R,M_G,M_B],\n",
    "        [S_R,S_G,S_B]\n",
    "])\n",
    "\n",
    "L_t = np.dot(L_coefficients,test_light)\n",
    "M_t = np.dot(M_coefficients,test_light)\n",
    "S_t = np.dot(S_coefficients,test_light)\n",
    "tese_cone = np.array([L_t,M_t,S_t])\n",
    "\n",
    "we = np.linalg.solve(phosphor_matrix,tese_cone)\n",
    "print(we)"
   ]
  },
  {
   "cell_type": "code",
   "execution_count": null,
   "metadata": {},
   "outputs": [
    {
     "name": "stdout",
     "output_type": "stream",
     "text": [
      "Temperature Vector x: [24.90063639 21.61770814 33.8996902 ]\n",
      "Bias Constant: 2.1937036086718855\n",
      "Drift Constant: 0.18979612476283153\n"
     ]
    }
   ],
   "source": [
    "import numpy as np\n",
    "\n",
    "data = np.load(\"sensor_data.npy\", allow_pickle=True).item()\n",
    "A = data['A']\n",
    "m, n = A.shape\n",
    "y = data['y']\n",
    "Intervals = 1\n",
    "\n",
    "allones = np.ones((m, 1))\n",
    "time = np.arange(m).reshape(-1, 1) * Intervals\n",
    "B = np.hstack((A, allones, time))\n",
    "\n",
    "# z = [x, alpha, beta]\n",
    "z, residuals, rank, s = np.linalg.lstsq(B, y, rcond=None) # used -> least square method wrt -> z\n",
    "\n",
    "x = z[:n]\n",
    "alpha = z[-2]\n",
    "beta = z[-1]\n",
    "\n",
    "print(\"Temperature Vector x:\", x)\n",
    "print(\"Bias Constant:\", alpha)\n",
    "print(\"Drift Constant:\", beta)\n"
   ]
  },
  {
   "cell_type": "code",
   "execution_count": null,
   "metadata": {},
   "outputs": [],
   "source": []
  }
 ],
 "metadata": {
  "kernelspec": {
   "display_name": "base",
   "language": "python",
   "name": "python3"
  },
  "language_info": {
   "codemirror_mode": {
    "name": "ipython",
    "version": 3
   },
   "file_extension": ".py",
   "mimetype": "text/x-python",
   "name": "python",
   "nbconvert_exporter": "python",
   "pygments_lexer": "ipython3",
   "version": "3.12.4"
  }
 },
 "nbformat": 4,
 "nbformat_minor": 2
}

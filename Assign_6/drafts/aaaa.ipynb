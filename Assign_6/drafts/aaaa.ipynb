{
 "cells": [
  {
   "cell_type": "code",
   "execution_count": null,
   "metadata": {},
   "outputs": [
    {
     "name": "stdout",
     "output_type": "stream",
     "text": [
      "RGB weights are: \n",
      "\n",
      "R : 0.42259299388355054\n",
      "G : 0.0987425637870611\n",
      "B : 0.5285525473174244\n"
     ]
    }
   ],
   "source": [
    "import json\n",
    "import numpy as np\n",
    "\n",
    "with open(\"color_perception_data.json\", \"r\") as file:\n",
    "    color_data = json.load(file)\n",
    "\n",
    "wavelength = np.array(color_data[\"wavelength\"][\"data\"])\n",
    "R = np.array(color_data[\"R_phosphor\"][\"data\"])\n",
    "G = np.array(color_data[\"G_phosphor\"][\"data\"])\n",
    "B = np.array(color_data[\"B_phosphor\"][\"data\"])\n",
    "L = np.array(color_data[\"L_coefficients\"][\"data\"])\n",
    "M = np.array(color_data[\"M_coefficients\"][\"data\"])\n",
    "S = np.array(color_data[\"S_coefficients\"][\"data\"])\n",
    "test_light = np.array(color_data[\"test_light\"][\"data\"])\n",
    "\n",
    "LR = np.dot(L, R)\n",
    "MR = np.dot(M, R)\n",
    "SR = np.dot(S, R)\n",
    "\n",
    "MG = np.dot(M, G)\n",
    "LG = np.dot(L, G)\n",
    "SG = np.dot(S, G)\n",
    "\n",
    "LB = np.dot(L, B)\n",
    "MB = np.dot(M, B)\n",
    "SB = np.dot(S, B)\n",
    "\n",
    "mat = np.array([                               # Matrix of the above dot product\n",
    "        [LR, LG, LB],\n",
    "        [MR, MG, MB],\n",
    "        [SR, SG, SB]\n",
    "])\n",
    "\n",
    "L_test_light = np.dot(L, test_light)\n",
    "M_test_light = np.dot(M, test_light)\n",
    "S_test_light = np.dot(S, test_light)\n",
    "\n",
    "compared = np.array([L_test_light ,M_test_light, S_test_light])            # Stored response to test light\n",
    "\n",
    "weights = np.linalg.solve(mat, compared)\n",
    "R_value = weights[0]\n",
    "G_value = weights[1]\n",
    "B_value = weights[2]\n",
    "\n",
    "print(\"RGB weights are: \\n\")\n",
    "print(f\"R : {R_value}\")\n",
    "print(f\"G : {G_value}\")\n",
    "print(f\"B : {B_value}\")"
   ]
  },
  {
   "cell_type": "code",
   "execution_count": null,
   "metadata": {},
   "outputs": [],
   "source": []
  }
 ],
 "metadata": {
  "kernelspec": {
   "display_name": "base",
   "language": "python",
   "name": "python3"
  },
  "language_info": {
   "codemirror_mode": {
    "name": "ipython",
    "version": 3
   },
   "file_extension": ".py",
   "mimetype": "text/x-python",
   "name": "python",
   "nbconvert_exporter": "python",
   "pygments_lexer": "ipython3",
   "version": "3.12.4"
  }
 },
 "nbformat": 4,
 "nbformat_minor": 2
}

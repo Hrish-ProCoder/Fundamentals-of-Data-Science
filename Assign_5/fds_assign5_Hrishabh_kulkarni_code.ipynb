{
 "cells": [
  {
   "cell_type": "markdown",
   "metadata": {},
   "source": [
    "# Question 1:"
   ]
  },
  {
   "cell_type": "code",
   "execution_count": 19,
   "metadata": {},
   "outputs": [],
   "source": [
    "import numpy as np"
   ]
  },
  {
   "cell_type": "code",
   "execution_count": 20,
   "metadata": {},
   "outputs": [],
   "source": [
    "# Matrices\n",
    "A = np.array([[1, 4, 1], [-2, 2, 1], [3, 1, 4]])\n",
    "B = np.array([[3, 1, 2], [1, 5, 6], [2, 1, 2]])\n",
    "\n",
    "# Vectors\n",
    "x = np.array([1, 2, 3])\n",
    "y = np.array([0, 1, 0])"
   ]
  },
  {
   "cell_type": "markdown",
   "metadata": {},
   "source": [
    "### (a)"
   ]
  },
  {
   "cell_type": "code",
   "execution_count": 21,
   "metadata": {},
   "outputs": [
    {
     "data": {
      "text/plain": [
       "array([3, 8, 9])"
      ]
     },
     "execution_count": 21,
     "metadata": {},
     "output_type": "execute_result"
    }
   ],
   "source": [
    "a_hk = 3 * x + 2 * y\n",
    "a_hk"
   ]
  },
  {
   "cell_type": "markdown",
   "metadata": {},
   "source": [
    "### (b)"
   ]
  },
  {
   "cell_type": "code",
   "execution_count": 22,
   "metadata": {},
   "outputs": [
    {
     "data": {
      "text/plain": [
       "array([12,  5, 17])"
      ]
     },
     "execution_count": 22,
     "metadata": {},
     "output_type": "execute_result"
    }
   ],
   "source": [
    "b_hk = np.dot(A, x)\n",
    "b_hk"
   ]
  },
  {
   "cell_type": "markdown",
   "metadata": {},
   "source": [
    "### (c)"
   ]
  },
  {
   "cell_type": "code",
   "execution_count": 23,
   "metadata": {},
   "outputs": [
    {
     "data": {
      "text/plain": [
       "array([[ 9, 22, 28],\n",
       "       [-2,  9, 10],\n",
       "       [18, 12, 20]])"
      ]
     },
     "execution_count": 23,
     "metadata": {},
     "output_type": "execute_result"
    }
   ],
   "source": [
    "c_hk = np.dot(A, B)\n",
    "c_hk"
   ]
  },
  {
   "cell_type": "markdown",
   "metadata": {},
   "source": [
    "### (d)"
   ]
  },
  {
   "cell_type": "code",
   "execution_count": 24,
   "metadata": {},
   "outputs": [
    {
     "data": {
      "text/plain": [
       "3.7416573867739413"
      ]
     },
     "execution_count": 24,
     "metadata": {},
     "output_type": "execute_result"
    }
   ],
   "source": [
    "d_hk = np.linalg.norm(x)\n",
    "d_hk"
   ]
  },
  {
   "cell_type": "markdown",
   "metadata": {},
   "source": [
    "### (e)"
   ]
  },
  {
   "cell_type": "code",
   "execution_count": 25,
   "metadata": {},
   "outputs": [
    {
     "data": {
      "text/plain": [
       "1.0"
      ]
     },
     "execution_count": 25,
     "metadata": {},
     "output_type": "execute_result"
    }
   ],
   "source": [
    "e_hk = np.linalg.norm(y)\n",
    "e_hk"
   ]
  },
  {
   "cell_type": "markdown",
   "metadata": {},
   "source": [
    "### (f)"
   ]
  },
  {
   "cell_type": "code",
   "execution_count": 26,
   "metadata": {},
   "outputs": [
    {
     "data": {
      "text/plain": [
       "2"
      ]
     },
     "execution_count": 26,
     "metadata": {},
     "output_type": "execute_result"
    }
   ],
   "source": [
    "f_hk = np.dot(x, y)\n",
    "f_hk"
   ]
  },
  {
   "cell_type": "markdown",
   "metadata": {},
   "source": [
    "### (g)"
   ]
  },
  {
   "cell_type": "code",
   "execution_count": 27,
   "metadata": {},
   "outputs": [
    {
     "data": {
      "text/plain": [
       "57.688466762576155"
      ]
     },
     "execution_count": 27,
     "metadata": {},
     "output_type": "execute_result"
    }
   ],
   "source": [
    "cos_theta_for = f_hk / (d_hk * e_hk)\n",
    "theta_value = np.arccos(cos_theta_for)\n",
    "theta_degree = np.degrees(theta_value)  # Convert to degrees\n",
    "theta_degree"
   ]
  },
  {
   "cell_type": "code",
   "execution_count": null,
   "metadata": {},
   "outputs": [],
   "source": []
  },
  {
   "cell_type": "markdown",
   "metadata": {},
   "source": [
    "# Question 6:"
   ]
  },
  {
   "cell_type": "code",
   "execution_count": 28,
   "metadata": {},
   "outputs": [],
   "source": [
    "import numpy as np"
   ]
  },
  {
   "cell_type": "code",
   "execution_count": 29,
   "metadata": {},
   "outputs": [],
   "source": [
    "# Powers -> P and temperatures -> T from the table\n",
    "P = np.array([[10, 10, 10], \n",
    "              [100, 10, 10], \n",
    "              [10, 100, 10], \n",
    "              [10, 10, 100]])\n",
    "\n",
    "T = np.array([[21, 23], \n",
    "              [47, 35], \n",
    "              [39, 47], \n",
    "              [32, 53]])\n"
   ]
  },
  {
   "cell_type": "code",
   "execution_count": 30,
   "metadata": {},
   "outputs": [
    {
     "data": {
      "text/plain": [
       "array([[ 0.28888889,  0.13333333],\n",
       "       [ 0.2       ,  0.26666667],\n",
       "       [ 0.12222222,  0.33333333],\n",
       "       [14.88888889, 15.66666667]])"
      ]
     },
     "execution_count": 30,
     "metadata": {},
     "output_type": "execute_result"
    }
   ],
   "source": [
    "# Add a column of ones to P for the intercept (affine part)\n",
    "P_affine = np.hstack([P, np.ones((P.shape[0], 1))])\n",
    "\n",
    "coef, residuals, rank, s = np.linalg.lstsq(P_affine, T, rcond=None)\n",
    "\n",
    "coef\n"
   ]
  },
  {
   "cell_type": "code",
   "execution_count": 31,
   "metadata": {},
   "outputs": [
    {
     "data": {
      "text/plain": [
       "67.27272727272722"
      ]
     },
     "execution_count": 31,
     "metadata": {},
     "output_type": "execute_result"
    }
   ],
   "source": [
    "# respective Coefficients for T1 and T2 as a function of P1, P2, P3, using coef respectively\n",
    "coef_T1 = coef[:, 0]\n",
    "coef_T2 = coef[:, 1]\n",
    "\n",
    "# Here, I am Solving for p -> such that -> [ T1 <= 65 and T2 <= 65 ]\n",
    "max_p_T1 = (65 - coef_T1[3]) / (coef_T1[0] + coef_T1[1] + coef_T1[2])\n",
    "max_p_T2 = (65 - coef_T2[3]) / (coef_T2[0] + coef_T2[1] + coef_T2[2])\n",
    "\n",
    "# The maximum p is the smaller of the two values , So I have used min to get the minimum of the 2 values\n",
    "max_p = min(max_p_T1, max_p_T2)\n",
    "max_p\n"
   ]
  },
  {
   "cell_type": "code",
   "execution_count": null,
   "metadata": {},
   "outputs": [],
   "source": []
  }
 ],
 "metadata": {
  "kernelspec": {
   "display_name": "base",
   "language": "python",
   "name": "python3"
  },
  "language_info": {
   "codemirror_mode": {
    "name": "ipython",
    "version": 3
   },
   "file_extension": ".py",
   "mimetype": "text/x-python",
   "name": "python",
   "nbconvert_exporter": "python",
   "pygments_lexer": "ipython3",
   "version": "3.12.4"
  }
 },
 "nbformat": 4,
 "nbformat_minor": 2
}
